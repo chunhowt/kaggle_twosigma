{
 "cells": [
  {
   "cell_type": "markdown",
   "metadata": {
    "collapsed": true
   },
   "source": [
    "## Script to understand the effect of data preprocessing."
   ]
  },
  {
   "cell_type": "code",
   "execution_count": 1,
   "metadata": {
    "collapsed": true
   },
   "outputs": [],
   "source": [
    "import numpy as np\n",
    "import pandas as pd\n",
    "\n",
    "import matplotlib.pyplot as plt\n",
    "%matplotlib inline\n",
    "\n",
    "from sklearn.preprocessing import Imputer, RobustScaler, StandardScaler"
   ]
  },
  {
   "cell_type": "code",
   "execution_count": 2,
   "metadata": {
    "collapsed": false,
    "scrolled": false
   },
   "outputs": [],
   "source": [
    "# Here's an example of loading the CSV using Pandas's built-in HDF5 support:\n",
    "with pd.HDFStore(\"train.h5\", \"r\") as train:\n",
    "    # Note that the \"train\" dataframe is the only dataframe in the file\n",
    "    df = train.get(\"train\")\n",
    "    train_df = df[:806298]\n",
    "    valid_df = df[806298:]\n",
    "\n",
    "def PlotHistogram(train_x, valid_x, train_impute, valid_impute, train_norm, valid_norm, column):\n",
    "    # Creates a new figure for plotting.\n",
    "    (fig, axes) = plt.subplots(3, 2, figsize=(16, 24))\n",
    "    \n",
    "    train_x[column].dropna().hist(bins=100, log=True, ax=axes[0, 0])\n",
    "    axes[0, 0].set_title('Original train: ' + column)\n",
    "    \n",
    "    valid_x[column].dropna().hist(bins=100, log=True, ax=axes[0, 1])\n",
    "    axes[0, 1].set_title('Original valid: ' + column)\n",
    "    \n",
    "    train_impute[column].hist(bins=100, log=True, ax=axes[1, 0])\n",
    "    axes[1, 0].set_title('Impute train: ' + column)\n",
    "    \n",
    "    valid_impute[column].hist(bins=100, log=True, ax=axes[1, 1])\n",
    "    axes[1, 1].set_title('Impute valid: ' + column)\n",
    "\n",
    "    train_norm[column].hist(bins=100, log=True, ax=axes[2, 0])\n",
    "    axes[2, 0].set_title('Norm train: ' + column)\n",
    "    \n",
    "    valid_norm[column].hist(bins=100, log=True, ax=axes[2, 1])\n",
    "    axes[2, 1].set_title('Norm valid: ' + column)\n",
    "    \n",
    "    plt.show()\n",
    "\n",
    "X_train = train_df.drop(['id', 'y', 'timestamp'], axis=1)\n",
    "X_valid = valid_df.drop(['id', 'y', 'timestamp'], axis=1)\n",
    "\n",
    "imputer = Imputer(strategy='mean')\n",
    "train_impute = pd.DataFrame(imputer.fit_transform(X_train), columns=X_train.columns)\n",
    "valid_impute = pd.DataFrame(imputer.transform(X_valid), columns=X_train.columns)\n",
    "\n",
    "normalizer = RobustScaler()\n",
    "train_norm = pd.DataFrame(normalizer.fit_transform(train_impute), columns=X_train.columns)\n",
    "valid_norm = pd.DataFrame(normalizer.transform(valid_impute), columns=X_train.columns)\n",
    "\n",
    "# for (ind, column) in enumerate(X_train.columns):\n",
    "#     print(column, ': ', normalizer.center_[ind], normalizer.scale_[ind])\n",
    "\n",
    "#for column in X_train.columns:\n",
    "#    if 'technical_' in column:\n",
    "#        PlotHistogram(X_train, X_valid, train_impute, valid_impute, train_norm, valid_norm, column)"
   ]
  },
  {
   "cell_type": "code",
   "execution_count": null,
   "metadata": {
    "collapsed": true
   },
   "outputs": [],
   "source": []
  }
 ],
 "metadata": {
  "kernelspec": {
   "display_name": "Python 3",
   "language": "python",
   "name": "python3"
  },
  "language_info": {
   "codemirror_mode": {
    "name": "ipython",
    "version": 3
   },
   "file_extension": ".py",
   "mimetype": "text/x-python",
   "name": "python",
   "nbconvert_exporter": "python",
   "pygments_lexer": "ipython3",
   "version": "3.5.2"
  },
  "widgets": {
   "state": {},
   "version": "1.1.2"
  }
 },
 "nbformat": 4,
 "nbformat_minor": 2
}
