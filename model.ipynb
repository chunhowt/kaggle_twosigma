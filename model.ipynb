{
 "cells": [
  {
   "cell_type": "code",
   "execution_count": 4,
   "metadata": {
    "collapsed": true
   },
   "outputs": [],
   "source": [
    "import numpy as np\n",
    "import pandas as pd"
   ]
  },
  {
   "cell_type": "code",
   "execution_count": 39,
   "metadata": {
    "collapsed": true
   },
   "outputs": [],
   "source": [
    "def evaluate(actual, pred):\n",
    "    \"\"\"Computes the R value of the predictions given the actual values.\n",
    "    \n",
    "    Both actual and pred should be of the same length where each index\n",
    "    corresponds to the actual and predicted value of the same row of data.\n",
    "    \n",
    "    Args:\n",
    "        actual: A list of actual values.\n",
    "        pred: A list of predicted values.\n",
    "    \n",
    "    Returns:\n",
    "        R value of the predictions given the actual values.\n",
    "    \"\"\"\n",
    "    assert len(actual) == len(pred)\n",
    "    nume = np.sum(np.square(actual - pred))\n",
    "    denom = np.sum(np.square(actual - np.mean(actual)))\n",
    "    r_sq = 1 - nume / denom\n",
    "    return np.sign(r_sq) * np.sqrt(np.abs(r_sq))"
   ]
  },
  {
   "cell_type": "code",
   "execution_count": 41,
   "metadata": {
    "collapsed": true
   },
   "outputs": [],
   "source": [
    "def train_model(train_df):\n",
    "    \"\"\"Returns a new model trained using the given data frame.\n",
    "\n",
    "    Args:\n",
    "        train_df: DataFrame object corresponding to training data.\n",
    "    \n",
    "    Returns:\n",
    "        Model trained using the data frame.\n",
    "    \"\"\"\n",
    "    return None"
   ]
  },
  {
   "cell_type": "code",
   "execution_count": 42,
   "metadata": {
    "collapsed": true
   },
   "outputs": [],
   "source": [
    "def run_infer(model, features, target):\n",
    "    \"\"\"Populates the target using the features and model and updates the\n",
    "    model.\n",
    "    \n",
    "    Args:\n",
    "        model: A model for prediction and then for updating with new data.\n",
    "        features: DataFrame object corresponding to new data to predict\n",
    "                  on, and then update the existing model.\n",
    "        target: DataFrame object containing id and the y value to be updated\n",
    "                with.\n",
    "    \"\"\"\n",
    "    return target"
   ]
  },
  {
   "cell_type": "code",
   "execution_count": 40,
   "metadata": {
    "collapsed": false
   },
   "outputs": [
    {
     "name": "stdout",
     "output_type": "stream",
     "text": [
      "-0.0083508942268\n"
     ]
    }
   ],
   "source": [
    "# A cell to perform local E2E training and prediction that simulates\n",
    "# the KaggleGym behavior.\n",
    "def localE2E():\n",
    "    \"\"\"A function to simulate KaggleGym behavior of predicting per timestep.\n",
    "    \"\"\"\n",
    "    # Here's an example of loading the CSV using Pandas's built-in HDF5 support:\n",
    "    with pd.HDFStore(\"train.h5\", \"r\") as train:\n",
    "        # Note that the \"train\" dataframe is the only dataframe in the file\n",
    "        df = train.get(\"train\")\n",
    "        train_df = df[:806298]\n",
    "        valid_df = df[806298:]\n",
    "    \n",
    "    # NOTE: Training goes here.\n",
    "    model = train_model(train_df)\n",
    "    predictions = []\n",
    "\n",
    "    curr_timestamp = 0\n",
    "    curr_data = []\n",
    "    curr_target = []\n",
    "    for row in valid_df.itertuples():\n",
    "        # If it is a new timestamp, predict.\n",
    "        if row.timestamp != curr_timestamp:\n",
    "            if curr_data:\n",
    "                # NOTE: Inference and updating goes here.\n",
    "                new_targets = run_infer(\n",
    "                    model,\n",
    "                    # Drop the last column (y).\n",
    "                    pd.DataFrame(curr_data, columns=valid_df.columns[:-1]),\n",
    "                    pd.DataFrame(curr_target, columns=['id', 'y']))\n",
    "                predictions.extend(list(new_targets['y']))\n",
    "            # Reset arrays.\n",
    "            curr_data = []\n",
    "            curr_target= []\n",
    "            curr_timestamp = row.timestamp\n",
    "        # Drop the first (index) and last (y) into features.\n",
    "        curr_data.append(list(row)[1:-1])\n",
    "        curr_target.append([row.id, 0])\n",
    "\n",
    "    # Infer for the last timestamp.\n",
    "    new_targets = run_infer(\n",
    "        model,\n",
    "        # Drop the last column (y).\n",
    "        pd.DataFrame(curr_data, columns=valid_df.columns[:-1]),\n",
    "        pd.DataFrame(curr_target, columns=['id', 'y']))\n",
    "\n",
    "    predictions.extend(list(new_targets['y']))\n",
    "    return evaluate(valid_df['y'], predictions)\n",
    "\n",
    "print(localE2E()) "
   ]
  },
  {
   "cell_type": "code",
   "execution_count": null,
   "metadata": {
    "collapsed": true
   },
   "outputs": [],
   "source": [
    "# Read data from Kagglegym\n",
    "import kagglegym\n",
    "\n",
    "def kaggleE2E():\n",
    "    \"\"\"Runs Kaggle training and predictions E2E.\n",
    "    \"\"\"\n",
    "    # Create env.\n",
    "    env = kagglegym.make()\n",
    "    # Get first observation.\n",
    "    observation = env.reset()\n",
    "    # Get train data.\n",
    "    train_df = observation.train\n",
    "    model = train_model(train_df)\n",
    "\n",
    "    # Predict using Kagglegym.\n",
    "    while True:\n",
    "        predictions = run_infer(model, observation.features, observation.target)\n",
    "        observation, reward, done, info = env.step(predictions)\n",
    "        # print('Reward: ', reward)\n",
    "        if done:\n",
    "            break\n",
    "    print(info)\n",
    "\n",
    "kaggleE2E()"
   ]
  }
 ],
 "metadata": {
  "anaconda-cloud": {},
  "kernelspec": {
   "display_name": "Python [default]",
   "language": "python",
   "name": "python3"
  },
  "language_info": {
   "codemirror_mode": {
    "name": "ipython",
    "version": 3
   },
   "file_extension": ".py",
   "mimetype": "text/x-python",
   "name": "python",
   "nbconvert_exporter": "python",
   "pygments_lexer": "ipython3",
   "version": "3.5.2"
  }
 },
 "nbformat": 4,
 "nbformat_minor": 2
}
